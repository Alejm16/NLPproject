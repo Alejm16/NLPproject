{
  "nbformat": 4,
  "nbformat_minor": 0,
  "metadata": {
    "colab": {
      "name": "FinalColab.ipynb",
      "provenance": []
    },
    "kernelspec": {
      "name": "python3",
      "display_name": "Python 3"
    },
    "language_info": {
      "name": "python"
    }
  },
  "cells": [
    {
      "cell_type": "code",
      "metadata": {
        "colab": {
          "base_uri": "https://localhost:8080/"
        },
        "id": "i2EbbadqpJom",
        "outputId": "d136e80a-d6cb-4cbf-9f00-8a7ca8247f2f"
      },
      "source": [
        "from google.colab import drive\n",
        "drive.mount('/content/drive')"
      ],
      "execution_count": null,
      "outputs": [
        {
          "output_type": "stream",
          "name": "stdout",
          "text": [
            "Drive already mounted at /content/drive; to attempt to forcibly remount, call drive.mount(\"/content/drive\", force_remount=True).\n"
          ]
        }
      ]
    },
    {
      "cell_type": "code",
      "metadata": {
        "colab": {
          "base_uri": "https://localhost:8080/"
        },
        "id": "M4Sd-6WerZB0",
        "outputId": "e1b6b125-a494-4b41-c8a1-d1f9eb334880"
      },
      "source": [
        "!pip3 install --upgrade pandas==1.3.1\n",
        "!pip install keras"
      ],
      "execution_count": null,
      "outputs": [
        {
          "output_type": "stream",
          "name": "stdout",
          "text": [
            "Requirement already satisfied: pandas==1.3.1 in /usr/local/lib/python3.7/dist-packages (1.3.1)\n",
            "Requirement already satisfied: pytz>=2017.3 in /usr/local/lib/python3.7/dist-packages (from pandas==1.3.1) (2018.9)\n",
            "Requirement already satisfied: numpy>=1.17.3 in /usr/local/lib/python3.7/dist-packages (from pandas==1.3.1) (1.19.5)\n",
            "Requirement already satisfied: python-dateutil>=2.7.3 in /usr/local/lib/python3.7/dist-packages (from pandas==1.3.1) (2.8.2)\n",
            "Requirement already satisfied: six>=1.5 in /usr/local/lib/python3.7/dist-packages (from python-dateutil>=2.7.3->pandas==1.3.1) (1.15.0)\n",
            "Requirement already satisfied: keras in /usr/local/lib/python3.7/dist-packages (2.7.0)\n"
          ]
        }
      ]
    },
    {
      "cell_type": "code",
      "metadata": {
        "id": "KMMDvgK6ykLv"
      },
      "source": [
        "import matplotlib.pyplot as plt\n",
        "from gensim.models import KeyedVectors\n",
        "from gensim.scripts.glove2word2vec import glove2word2vec\n",
        "import time\n",
        "from sklearn.preprocessing import LabelEncoder\n",
        "from sklearn.model_selection import train_test_split\n",
        "\n",
        "from keras.preprocessing.text import Tokenizer\n",
        "from keras.preprocessing.sequence import pad_sequences\n",
        "from keras.models import Sequential\n",
        "\n",
        "from keras.layers import Dense, LSTM, Flatten, Embedding\n",
        "from tensorflow.keras.utils import to_categorical\n",
        "from keras.backend import clear_session"
      ],
      "execution_count": null,
      "outputs": []
    },
    {
      "cell_type": "code",
      "metadata": {
        "id": "QxWb_CFloUKf"
      },
      "source": [
        "import numpy as np # linear algebra\n",
        "import pandas as pd # data processing, CSV file I/O (e.g. pd.read_csv)\n",
        "import multiprocessing\n",
        "import seaborn as sns\n",
        "import email\n",
        "import matplotlib.pyplot as plt"
      ],
      "execution_count": null,
      "outputs": []
    },
    {
      "cell_type": "code",
      "metadata": {
        "id": "JWh47WKEy9GB",
        "colab": {
          "base_uri": "https://localhost:8080/"
        },
        "outputId": "a3e683ff-462c-407e-d849-6ab760ac46ea"
      },
      "source": [
        "filename = \"/content/drive/MyDrive/ColabTest/GoogleNews-vectors-negative300.bin\"\n",
        "\n",
        "start = time.time()\n",
        "google_embeddings = KeyedVectors.load_word2vec_format(filename, binary=True)\n",
        "\n",
        "print(\"Load time (seconds): \", (time.time() - start))"
      ],
      "execution_count": null,
      "outputs": [
        {
          "output_type": "stream",
          "name": "stdout",
          "text": [
            "Load time (seconds):  62.40432047843933\n"
          ]
        }
      ]
    },
    {
      "cell_type": "code",
      "metadata": {
        "colab": {
          "base_uri": "https://localhost:8080/"
        },
        "id": "qnuabz8etaO-",
        "outputId": "0c710364-3ca8-4023-cfba-fb9c8d2aede1"
      },
      "source": [
        "# load Stanford's pre-trained GloVe embeddings\n",
        "glove_file = \"/content/drive/MyDrive/ColabTest/glove.6B.300d.txt\"\n",
        "glove_word2vec_file = \"glove.6B.100d.txt.word2vec\"\n",
        "\n",
        "glove2word2vec(glove_file, glove_word2vec_file)"
      ],
      "execution_count": null,
      "outputs": [
        {
          "output_type": "execute_result",
          "data": {
            "text/plain": [
              "(400000, 300)"
            ]
          },
          "metadata": {},
          "execution_count": 6
        }
      ]
    },
    {
      "cell_type": "code",
      "metadata": {
        "id": "GavYlhm5pYVl"
      },
      "source": [
        "data = pd.read_pickle(\"/content/drive/MyDrive/ColabTest/enron_dataframe.pkl\")\n"
      ],
      "execution_count": null,
      "outputs": []
    },
    {
      "cell_type": "code",
      "metadata": {
        "colab": {
          "base_uri": "https://localhost:8080/",
          "height": 206
        },
        "id": "ixUNEeONqb2q",
        "outputId": "ad7fbf88-bdc2-44ee-aef1-5844e3c5699c"
      },
      "source": [
        "data.head()"
      ],
      "execution_count": null,
      "outputs": [
        {
          "output_type": "execute_result",
          "data": {
            "text/html": [
              "<div>\n",
              "<style scoped>\n",
              "    .dataframe tbody tr th:only-of-type {\n",
              "        vertical-align: middle;\n",
              "    }\n",
              "\n",
              "    .dataframe tbody tr th {\n",
              "        vertical-align: top;\n",
              "    }\n",
              "\n",
              "    .dataframe thead th {\n",
              "        text-align: right;\n",
              "    }\n",
              "</style>\n",
              "<table border=\"1\" class=\"dataframe\">\n",
              "  <thead>\n",
              "    <tr style=\"text-align: right;\">\n",
              "      <th></th>\n",
              "      <th>Text</th>\n",
              "      <th>Person</th>\n",
              "    </tr>\n",
              "  </thead>\n",
              "  <tbody>\n",
              "    <tr>\n",
              "      <th>0</th>\n",
              "      <td></td>\n",
              "      <td>arnold-j</td>\n",
              "    </tr>\n",
              "    <tr>\n",
              "      <th>1</th>\n",
              "      <td>let's push until monday</td>\n",
              "      <td>arnold-j</td>\n",
              "    </tr>\n",
              "    <tr>\n",
              "      <th>2</th>\n",
              "      <td>what's pdx?</td>\n",
              "      <td>arnold-j</td>\n",
              "    </tr>\n",
              "    <tr>\n",
              "      <th>3</th>\n",
              "      <td>BMO wants to do this sleave trade. Duke, Dyneg...</td>\n",
              "      <td>arnold-j</td>\n",
              "    </tr>\n",
              "    <tr>\n",
              "      <th>4</th>\n",
              "      <td>I'm big seller of interventions. they tend not...</td>\n",
              "      <td>arnold-j</td>\n",
              "    </tr>\n",
              "  </tbody>\n",
              "</table>\n",
              "</div>"
            ],
            "text/plain": [
              "                                                Text    Person\n",
              "0                                                     arnold-j\n",
              "1                            let's push until monday  arnold-j\n",
              "2                                        what's pdx?  arnold-j\n",
              "3  BMO wants to do this sleave trade. Duke, Dyneg...  arnold-j\n",
              "4  I'm big seller of interventions. they tend not...  arnold-j"
            ]
          },
          "metadata": {},
          "execution_count": 8
        }
      ]
    },
    {
      "cell_type": "code",
      "metadata": {
        "colab": {
          "base_uri": "https://localhost:8080/"
        },
        "id": "2cKOoXzLuJAI",
        "outputId": "26180273-1931-4259-a0f8-b3403ad118b6"
      },
      "source": [
        "data.shape"
      ],
      "execution_count": null,
      "outputs": [
        {
          "output_type": "execute_result",
          "data": {
            "text/plain": [
              "(95573, 2)"
            ]
          },
          "metadata": {},
          "execution_count": 9
        }
      ]
    },
    {
      "cell_type": "code",
      "metadata": {
        "colab": {
          "base_uri": "https://localhost:8080/"
        },
        "id": "ZIld1q6RuLaf",
        "outputId": "84b4b329-c9d3-4531-c480-b32fe3ee652a"
      },
      "source": [
        "data['Person'].unique()"
      ],
      "execution_count": null,
      "outputs": [
        {
          "output_type": "execute_result",
          "data": {
            "text/plain": [
              "array(['arnold-j', 'phanis-s', 'lavorato-j', 'stclair-c', 'townsend-j',\n",
              "       'forney-j', 'symes-k', 'reitmeyer-j', 'hyatt-k', 'steffes-j',\n",
              "       'kaminski-v', 'wolfe-j', 'mcconnell-m', 'skilling-j', 'zipper-a',\n",
              "       'shively-h', 'donoho-l', 'sanchez-m', 'delainey-d', 'germany-c',\n",
              "       'whalley-l', 'buy-r', 'tholt-j', 'cash-m', 'sanders-r', 'staab-t',\n",
              "       'semperger-c', 'mccarty-d', 'mclaughlin-e', 'ring-a', 'weldon-c',\n",
              "       'ring-r', 'farmer-d', 'sager-e', 'zufferli-j', 'ybarbo-p',\n",
              "       'watson-k', 'dasovich-j', 'arora-h', 'slinger-r', 'martin-t',\n",
              "       'storey-g', 'ruscitti-k', 'shankman-j', 'schwieger-j',\n",
              "       'perlingiere-d', 'saibi-e', 'griffith-j', 'meyers-a', 'grigsby-m',\n",
              "       'taylor-m', 'rapp-b', 'causholli-m', 'derrick-j', 'bass-e',\n",
              "       'south-s', 'salisbury-h', 'beck-s', 'tycholiz-b', 'shackleton-s',\n",
              "       'kitchen-l', 'blair-l', 'quenet-j', 'lokey-t', 'williams-j',\n",
              "       'panus-s', 'gang-l', 'hendrickson-s', 'schoolcraft-d', 'mann-k',\n",
              "       'kuykendall-t', 'allen-p', 'giron-d', 'lewis-a', 'jones-t',\n",
              "       'carson-m', 'stepenovitch-j', 'whitt-m', 'love-p', 'whalley-g',\n",
              "       'presto-k', 'scott-s', 'crandell-s', 'rodrique-r', 'white-s',\n",
              "       'motley-m', 'sturm-f', 'dean-c', 'keiser-k', 'shapiro-r',\n",
              "       'corman-s', 'pereira-s', 'campbell-l', 'richey-c', 'ward-k',\n",
              "       'dickson-s', 'rogers-b', 'nemec-g', 'hayslett-r', 'haedicke-m',\n",
              "       'mckay-j', 'gay-r', 'brawner-s', 'lucci-p', 'king-j', 'geaccone-t',\n",
              "       'mckay-b', 'hyvl-d', 'williams-w3', 'davis-d', 'thomas-p',\n",
              "       'heard-m', 'hodge-j', 'pimenov-v', 'neal-s', 'fossum-d',\n",
              "       'baughman-d', 'smith-m', 'mims-thurston-p', 'bailey-s',\n",
              "       'fischer-m', 'dorland-c', 'ermis-f', 'may-l', 'platter-p',\n",
              "       'keavey-p', 'cuilla-m', 'parks-j', 'lokay-m', 'kean-s',\n",
              "       'quigley-d', 'horton-s', 'benson-r', 'solberg-g', 'badeer-r',\n",
              "       'lay-k', 'gilbertsmith-d', 'lenhart-m', 'swerzbin-m',\n",
              "       'hernandez-j', 'holst-k', 'maggi-m', 'donohoe-t', 'scholtes-d'],\n",
              "      dtype=object)"
            ]
          },
          "metadata": {},
          "execution_count": 10
        }
      ]
    },
    {
      "cell_type": "code",
      "metadata": {
        "id": "tkwfAB_tuSMJ"
      },
      "source": [
        "def label_encoder(data):\n",
        "    class_le = LabelEncoder()\n",
        "    # apply label encoder on the 'X-Folder' column\n",
        "    y = class_le.fit_transform(data['Person'])\n",
        "    return y"
      ],
      "execution_count": null,
      "outputs": []
    },
    {
      "cell_type": "code",
      "metadata": {
        "id": "D6rC791huSz4"
      },
      "source": [
        "y = label_encoder(data)\n",
        "input_data = data['Text']"
      ],
      "execution_count": null,
      "outputs": []
    },
    {
      "cell_type": "code",
      "metadata": {
        "id": "Qqc3HX-Fuacf"
      },
      "source": [
        "X_train, X_test, y_train, y_test = train_test_split(input_data, y, test_size=0.1)"
      ],
      "execution_count": null,
      "outputs": []
    },
    {
      "cell_type": "code",
      "metadata": {
        "id": "8KXva8u8vPEf"
      },
      "source": [
        "# one-hot encode the output labels\n",
        "Y_train = to_categorical(y_train, 144)\n",
        "Y_test = to_categorical(y_test, 144)"
      ],
      "execution_count": null,
      "outputs": []
    },
    {
      "cell_type": "code",
      "metadata": {
        "id": "i-Q-vxU-ueUT"
      },
      "source": [
        "# prepare tokenizer\n",
        "t = Tokenizer()\n",
        "\n",
        "# fit the tokenizer on the docs\n",
        "t.fit_on_texts(input_data)\n",
        "vocab_size = len(t.word_index) + 1\n",
        "\n",
        "# integer encode the documents\n",
        "X_train_encoded_docs = t.texts_to_sequences(X_train)\n",
        "X_test_encoded_docs = t.texts_to_sequences(X_test)"
      ],
      "execution_count": null,
      "outputs": []
    },
    {
      "cell_type": "code",
      "metadata": {
        "colab": {
          "base_uri": "https://localhost:8080/"
        },
        "id": "5CfiEOOvufTM",
        "outputId": "cfa0b210-0158-4364-f4ae-e8d1b06115e0"
      },
      "source": [
        "# pad documents to a max length of 150 words\n",
        "max_length = 150\n",
        "X_train_padded_docs = pad_sequences(X_train_encoded_docs, maxlen=max_length, padding='post')\n",
        "X_test_padded_docs = pad_sequences(X_test_encoded_docs, maxlen=max_length, padding='post')\n",
        "\n",
        "print(X_train_padded_docs[0])"
      ],
      "execution_count": null,
      "outputs": [
        {
          "output_type": "stream",
          "name": "stdout",
          "text": [
            "[   30     1   358     8  1285 20800     6    28  2087    60   634   359\n",
            "     8   671  1492   114    18    46   787    22    27     9   122    43\n",
            "  1849   489  4902   111  9420  2690   570   600    12     1   781   165\n",
            "   334     8    45   182    27     9    20    55   252    42   177    43\n",
            "    80    93  2109   930   643    30    67  1152 92734     6    23    19\n",
            "    13   807     1  1237     8    17   146     0     0     0     0     0\n",
            "     0     0     0     0     0     0     0     0     0     0     0     0\n",
            "     0     0     0     0     0     0     0     0     0     0     0     0\n",
            "     0     0     0     0     0     0     0     0     0     0     0     0\n",
            "     0     0     0     0     0     0     0     0     0     0     0     0\n",
            "     0     0     0     0     0     0     0     0     0     0     0     0\n",
            "     0     0     0     0     0     0     0     0     0     0     0     0\n",
            "     0     0     0     0     0     0]\n"
          ]
        }
      ]
    },
    {
      "cell_type": "code",
      "metadata": {
        "id": "zFa741jDuhc1"
      },
      "source": [
        "# create a weight matrix for words in training docs\n",
        "embedding_matrix = np.zeros((vocab_size, 300))\n",
        "\n",
        "for word, i in t.word_index.items():\n",
        "    \n",
        "    try:\n",
        "        embedding_vector = google_embeddings[word]\n",
        "    \n",
        "        if embedding_vector is not None:\n",
        "            embedding_matrix[i] = embedding_vector \n",
        "    except:\n",
        "        pass"
      ],
      "execution_count": null,
      "outputs": []
    },
    {
      "cell_type": "code",
      "metadata": {
        "colab": {
          "base_uri": "https://localhost:8080/"
        },
        "id": "NMB2WIrlujie",
        "outputId": "2f378aab-e084-4835-d03b-e27b15d2e393"
      },
      "source": [
        "# define the model\n",
        "model = Sequential()\n",
        "e = Embedding(vocab_size, 300, weights=[embedding_matrix], input_length=max_length, trainable=False)\n",
        "model.add(e)\n",
        "model.add(LSTM(100, dropout=0.2))\n",
        "model.add(Flatten())\n",
        "model.add(Dense(144, activation='softmax'))\n",
        "\n",
        "\n",
        "# compile the model\n",
        "model.compile(optimizer='adam', loss='categorical_crossentropy', metrics=['accuracy'])\n",
        "\n",
        "# summarize the model\n",
        "model.summary()"
      ],
      "execution_count": null,
      "outputs": [
        {
          "output_type": "stream",
          "name": "stdout",
          "text": [
            "Model: \"sequential\"\n",
            "_________________________________________________________________\n",
            " Layer (type)                Output Shape              Param #   \n",
            "=================================================================\n",
            " embedding (Embedding)       (None, 150, 300)          32920200  \n",
            "                                                                 \n",
            " lstm (LSTM)                 (None, 100)               160400    \n",
            "                                                                 \n",
            " flatten (Flatten)           (None, 100)               0         \n",
            "                                                                 \n",
            " dense (Dense)               (None, 144)               14544     \n",
            "                                                                 \n",
            "=================================================================\n",
            "Total params: 33,095,144\n",
            "Trainable params: 174,944\n",
            "Non-trainable params: 32,920,200\n",
            "_________________________________________________________________\n"
          ]
        }
      ]
    },
    {
      "cell_type": "code",
      "metadata": {
        "id": "iTtzW3U6uk-1"
      },
      "source": [
        "clear_session()"
      ],
      "execution_count": null,
      "outputs": []
    },
    {
      "cell_type": "code",
      "metadata": {
        "id": "3Poc_etvumcg"
      },
      "source": [
        "# train the model\n",
        "clear_session()\n",
        "history = model.fit(X_train_padded_docs, Y_train, epochs=30, verbose=1, validation_split=0.1)"
      ],
      "execution_count": null,
      "outputs": []
    },
    {
      "cell_type": "code",
      "metadata": {
        "id": "-gzkLsz4unXD"
      },
      "source": [
        "# evaluate the model on the test set\n",
        "accr = model.evaluate(X_test_padded_docs, Y_test)\n",
        "print(\"Test Set: \\n Loss: {:0.3f}\\n Accuracy: {:0.3f}\".format(accr[0], accr[1]))"
      ],
      "execution_count": null,
      "outputs": []
    },
    {
      "cell_type": "code",
      "metadata": {
        "id": "tzC1GBQQuoZ6"
      },
      "source": [
        "# plot the loss\n",
        "plt.title(\"Word2Vec Loss\")\n",
        "plt.plot(history.history['loss'], label='train')\n",
        "plt.plot(history.history['val_loss'], label='validation')\n",
        "plt.legend()\n",
        "plt.show()"
      ],
      "execution_count": null,
      "outputs": []
    },
    {
      "cell_type": "code",
      "metadata": {
        "id": "lDbmQxiaupY1"
      },
      "source": [
        "# plot the accuracy\n",
        "plt.title(\"Word2Vec Accuracy\")\n",
        "plt.plot(history.history['accuracy'], label='train')\n",
        "plt.plot(history.history['val_accuracy'], label='validation')\n",
        "plt.legend()\n",
        "plt.xlabel('Epochs')\n",
        "plt.ylabel(\"Accuracy\")\n",
        "plt.show()"
      ],
      "execution_count": null,
      "outputs": []
    },
    {
      "cell_type": "code",
      "metadata": {
        "id": "M7ynMk2NusTE"
      },
      "source": [
        "# create a weight matrix for words in training docs\n",
        "embedding_matrix = np.zeros((vocab_size, 300))\n",
        "\n",
        "for word, i in t.word_index.items():\n",
        "    \n",
        "    try:\n",
        "        embedding_vector = glove_embeddings[word]\n",
        "    \n",
        "        if embedding_vector is not None:\n",
        "            embedding_matrix[i] = embedding_vector \n",
        "    except:\n",
        "        pass"
      ],
      "execution_count": null,
      "outputs": []
    },
    {
      "cell_type": "code",
      "metadata": {
        "colab": {
          "base_uri": "https://localhost:8080/"
        },
        "id": "-2u7ynxMuu3G",
        "outputId": "707ca798-4f00-4b21-80b5-5128dabd47e1"
      },
      "source": [
        "# define the model\n",
        "model2 = Sequential()\n",
        "e = Embedding(vocab_size, 300, weights=[embedding_matrix], input_length=max_length, trainable=False)\n",
        "model2.add(e)\n",
        "model2.add(LSTM(100, dropout=0.2))\n",
        "model2.add(Flatten())\n",
        "model2.add(Dense(144, activation='softmax'))\n",
        "\n",
        "\n",
        "# compile the model\n",
        "model2.compile(optimizer='adam', loss='categorical_crossentropy', metrics=['accuracy'])\n",
        "\n",
        "# summarize the model\n",
        "model2.summary()"
      ],
      "execution_count": null,
      "outputs": [
        {
          "output_type": "stream",
          "name": "stdout",
          "text": [
            "Model: \"sequential\"\n",
            "_________________________________________________________________\n",
            " Layer (type)                Output Shape              Param #   \n",
            "=================================================================\n",
            " embedding (Embedding)       (None, 150, 300)          32920200  \n",
            "                                                                 \n",
            " lstm (LSTM)                 (None, 100)               160400    \n",
            "                                                                 \n",
            " flatten (Flatten)           (None, 100)               0         \n",
            "                                                                 \n",
            " dense (Dense)               (None, 144)               14544     \n",
            "                                                                 \n",
            "=================================================================\n",
            "Total params: 33,095,144\n",
            "Trainable params: 174,944\n",
            "Non-trainable params: 32,920,200\n",
            "_________________________________________________________________\n"
          ]
        }
      ]
    },
    {
      "cell_type": "code",
      "metadata": {
        "colab": {
          "base_uri": "https://localhost:8080/"
        },
        "id": "QQQD7DCguwM6",
        "outputId": "2259ef93-7838-4b5a-c6c0-7536d2517f84"
      },
      "source": [
        "# fit the model\n",
        "history2 = model2.fit(X_train_padded_docs, Y_train, epochs=30, verbose=1, validation_split=0.1)"
      ],
      "execution_count": null,
      "outputs": [
        {
          "output_type": "stream",
          "name": "stdout",
          "text": [
            "Epoch 1/30\n",
            "2420/2420 [==============================] - 520s 214ms/step - loss: 3.9876 - accuracy: 0.1108 - val_loss: 3.5104 - val_accuracy: 0.2246\n",
            "Epoch 2/30\n",
            "2420/2420 [==============================] - 516s 213ms/step - loss: 3.1756 - accuracy: 0.2912 - val_loss: 2.8436 - val_accuracy: 0.3651\n",
            "Epoch 3/30\n",
            "2420/2420 [==============================] - 515s 213ms/step - loss: 2.7454 - accuracy: 0.3898 - val_loss: 2.5583 - val_accuracy: 0.4348\n",
            "Epoch 4/30\n",
            "2420/2420 [==============================] - 515s 213ms/step - loss: 2.5241 - accuracy: 0.4427 - val_loss: 2.3934 - val_accuracy: 0.4781\n",
            "Epoch 5/30\n",
            "2420/2420 [==============================] - 515s 213ms/step - loss: 2.3588 - accuracy: 0.4793 - val_loss: 2.2857 - val_accuracy: 0.4983\n",
            "Epoch 6/30\n",
            "2420/2420 [==============================] - 517s 214ms/step - loss: 2.2608 - accuracy: 0.5011 - val_loss: 2.2298 - val_accuracy: 0.5106\n",
            "Epoch 7/30\n",
            "2420/2420 [==============================] - 517s 214ms/step - loss: 2.1571 - accuracy: 0.5205 - val_loss: 2.1424 - val_accuracy: 0.5253\n",
            "Epoch 8/30\n",
            "2420/2420 [==============================] - 517s 213ms/step - loss: 2.0781 - accuracy: 0.5374 - val_loss: 2.0672 - val_accuracy: 0.5435\n",
            "Epoch 9/30\n",
            "2420/2420 [==============================] - 517s 214ms/step - loss: 2.0142 - accuracy: 0.5521 - val_loss: 2.0185 - val_accuracy: 0.5555\n",
            "Epoch 10/30\n",
            "2420/2420 [==============================] - 516s 213ms/step - loss: 1.9698 - accuracy: 0.5605 - val_loss: 2.0042 - val_accuracy: 0.5570\n",
            "Epoch 11/30\n",
            "2420/2420 [==============================] - 515s 213ms/step - loss: 1.9136 - accuracy: 0.5715 - val_loss: 1.9564 - val_accuracy: 0.5694\n",
            "Epoch 12/30\n",
            "2420/2420 [==============================] - 515s 213ms/step - loss: 1.8759 - accuracy: 0.5783 - val_loss: 1.9463 - val_accuracy: 0.5727\n",
            "Epoch 13/30\n",
            "2420/2420 [==============================] - 517s 213ms/step - loss: 1.8441 - accuracy: 0.5847 - val_loss: 1.9221 - val_accuracy: 0.5752\n",
            "Epoch 14/30\n",
            "2420/2420 [==============================] - 514s 212ms/step - loss: 1.8080 - accuracy: 0.5929 - val_loss: 1.9103 - val_accuracy: 0.5809\n",
            "Epoch 15/30\n",
            "2420/2420 [==============================] - 514s 213ms/step - loss: 1.7764 - accuracy: 0.5982 - val_loss: 1.8775 - val_accuracy: 0.5836\n",
            "Epoch 16/30\n",
            "2420/2420 [==============================] - 514s 212ms/step - loss: 1.7478 - accuracy: 0.6047 - val_loss: 1.8892 - val_accuracy: 0.5858\n",
            "Epoch 17/30\n",
            "2420/2420 [==============================] - 516s 213ms/step - loss: 1.7198 - accuracy: 0.6096 - val_loss: 1.8748 - val_accuracy: 0.5864\n",
            "Epoch 18/30\n",
            "2420/2420 [==============================] - 513s 212ms/step - loss: 1.6915 - accuracy: 0.6153 - val_loss: 1.8594 - val_accuracy: 0.5914\n",
            "Epoch 19/30\n",
            "2420/2420 [==============================] - 514s 212ms/step - loss: 1.6707 - accuracy: 0.6200 - val_loss: 1.8469 - val_accuracy: 0.5920\n",
            "Epoch 20/30\n",
            "2420/2420 [==============================] - 515s 213ms/step - loss: 1.6464 - accuracy: 0.6245 - val_loss: 1.8215 - val_accuracy: 0.5974\n",
            "Epoch 21/30\n",
            "2420/2420 [==============================] - 515s 213ms/step - loss: 1.6285 - accuracy: 0.6278 - val_loss: 1.8317 - val_accuracy: 0.5961\n",
            "Epoch 22/30\n",
            "2420/2420 [==============================] - 516s 213ms/step - loss: 1.6118 - accuracy: 0.6308 - val_loss: 1.8376 - val_accuracy: 0.5966\n",
            "Epoch 23/30\n",
            "2420/2420 [==============================] - 516s 213ms/step - loss: 1.5969 - accuracy: 0.6352 - val_loss: 1.9402 - val_accuracy: 0.5765\n",
            "Epoch 24/30\n",
            "2420/2420 [==============================] - 515s 213ms/step - loss: 1.5796 - accuracy: 0.6375 - val_loss: 1.8360 - val_accuracy: 0.6020\n",
            "Epoch 25/30\n",
            "2420/2420 [==============================] - 514s 212ms/step - loss: 1.5622 - accuracy: 0.6407 - val_loss: 1.8200 - val_accuracy: 0.6029\n",
            "Epoch 26/30\n",
            "2420/2420 [==============================] - 516s 213ms/step - loss: 1.5513 - accuracy: 0.6431 - val_loss: 1.8268 - val_accuracy: 0.6015\n",
            "Epoch 27/30\n",
            "2420/2420 [==============================] - 517s 214ms/step - loss: 1.5300 - accuracy: 0.6458 - val_loss: 1.8211 - val_accuracy: 0.6023\n",
            "Epoch 28/30\n",
            "2420/2420 [==============================] - 518s 214ms/step - loss: 1.5140 - accuracy: 0.6505 - val_loss: 1.8406 - val_accuracy: 0.6013\n",
            "Epoch 29/30\n",
            "2420/2420 [==============================] - 518s 214ms/step - loss: 1.5067 - accuracy: 0.6509 - val_loss: 1.8210 - val_accuracy: 0.6073\n",
            "Epoch 30/30\n",
            "2420/2420 [==============================] - 519s 214ms/step - loss: 1.4962 - accuracy: 0.6529 - val_loss: 1.8381 - val_accuracy: 0.6035\n"
          ]
        }
      ]
    },
    {
      "cell_type": "code",
      "metadata": {
        "colab": {
          "base_uri": "https://localhost:8080/"
        },
        "id": "b6p3YNsMuxoa",
        "outputId": "e7fa58ce-35ed-42af-eaab-c35d1b8be9d3"
      },
      "source": [
        "# evaluate the model2 on the test set\n",
        "accr2 = model2.evaluate(X_test_padded_docs, Y_test)\n",
        "print(\"Test Set: \\n Loss: {:0.3f}\\n Accuracy: {:0.3f}\".format(accr2[0], accr2[1]))"
      ],
      "execution_count": null,
      "outputs": [
        {
          "output_type": "stream",
          "name": "stdout",
          "text": [
            "299/299 [==============================] - 21s 69ms/step - loss: 1.8167 - accuracy: 0.6072\n",
            "Test Set: \n",
            " Loss: 1.817\n",
            " Accuracy: 0.607\n"
          ]
        }
      ]
    },
    {
      "cell_type": "code",
      "metadata": {
        "colab": {
          "base_uri": "https://localhost:8080/",
          "height": 294
        },
        "id": "hnQw4Rf1uzDX",
        "outputId": "1ed2472e-d792-4cb1-e355-11b974588aca"
      },
      "source": [
        "# plot the loss\n",
        "plt.title(\"Glove Word2Vec Loss\")\n",
        "plt.plot(history2.history['loss'], label='train')\n",
        "plt.plot(history2.history['val_loss'], label='validation')\n",
        "plt.legend()\n",
        "plt.xlabel(\"Epochs\")\n",
        "plt.ylabel(\"loss\")\n",
        "plt.show()"
      ],
      "execution_count": null,
      "outputs": [
        {
          "output_type": "display_data",
          "data": {
            "image/png": "[encoded data removed]",
            "text/plain": [
              "<Figure size 432x288 with 1 Axes>"
            ]
          },
          "metadata": {
            "needs_background": "light"
          }
        }
      ]
    },
    {
      "cell_type": "code",
      "metadata": {
        "colab": {
          "base_uri": "https://localhost:8080/",
          "height": 294
        },
        "id": "CipYPbZ6uz-t",
        "outputId": "e5bf5817-5c77-4b87-ede0-c24f443e0b9f"
      },
      "source": [
        "# plot the accuracy\n",
        "plt.title(\"GloVe Word2Vec Accuracy\")\n",
        "plt.plot(history2.history['accuracy'], label='train')\n",
        "plt.plot(history2.history['val_accuracy'], label='validation')\n",
        "plt.legend()\n",
        "plt.xlabel('Epochs')\n",
        "plt.ylabel(\"Accuracy\")\n",
        "plt.show()"
      ],
      "execution_count": null,
      "outputs": [
        {
          "output_type": "display_data",
          "data": {
            "image/png": "[encoded data removed]",
            "text/plain": [
              "<Figure size 432x288 with 1 Axes>"
            ]
          },
          "metadata": {
            "needs_background": "light"
          }
        }
      ]
    }
  ]
}