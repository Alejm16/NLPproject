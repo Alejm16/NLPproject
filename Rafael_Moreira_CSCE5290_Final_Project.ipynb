{
  "nbformat": 4,
  "nbformat_minor": 0,
  "metadata": {
    "colab": {
      "name": "Rafael_Moreira_CSCE5290_Final_Project.ipynb",
      "provenance": [],
      "collapsed_sections": [],
      "include_colab_link": true
    },
    "kernelspec": {
      "name": "python3",
      "display_name": "Python 3"
    },
    "language_info": {
      "name": "python"
    }
  },
  "cells": [
    {
      "cell_type": "markdown",
      "metadata": {
        "id": "view-in-github",
        "colab_type": "text"
      },
      "source": [
        "<a href=\"https://colab.research.google.com/github/Alejm16/NLPproject/blob/main/Rafael_Moreira_CSCE5290_Final_Project.ipynb\" target=\"_parent\"><img src=\"https://colab.research.google.com/assets/colab-badge.svg\" alt=\"Open In Colab\"/></a>"
      ]
    },
    {
      "cell_type": "markdown",
      "metadata": {
        "id": "YQ1HiCT1wI74"
      },
      "source": [
        "# **Final Project - NLP**\n"
      ]
    },
    {
      "cell_type": "code",
      "metadata": {
        "id": "N8zbuF4NGRWY"
      },
      "source": [
        "# NOTE: Some of the code was borrowed from Assignment 4 (ICE-4)\n",
        "\n",
        "# to avoid NumPy's truncation of outputs when certain code blocks are generated\n",
        "import sys\n",
        "import numpy\n",
        "numpy.set_printoptions(threshold=sys.maxsize)"
      ],
      "execution_count": null,
      "outputs": []
    },
    {
      "cell_type": "markdown",
      "metadata": {
        "id": "y2gap4EZkv42"
      },
      "source": [
        "### **1. Dataset**\n",
        "\n",
        "We are using [a pickle file](https://github.com/Alejm16/NLPproject/blob/main/enron_dataframe.pkl) that is loaded as a pandas dataframe.  It contains the name and the body of all the emails sent by Enron.  The original dataset can be found [here](https://www.cs.cmu.edu/~enron/)."
      ]
    },
    {
      "cell_type": "code",
      "metadata": {
        "colab": {
          "base_uri": "https://localhost:8080/"
        },
        "id": "WJPjUAD5QmGC",
        "outputId": "1c2535b2-a4ae-4246-94da-850b70a5f8e1"
      },
      "source": [
        "from google.colab import drive\n",
        "drive.mount('/content/drive')"
      ],
      "execution_count": 1,
      "outputs": [
        {
          "output_type": "stream",
          "name": "stdout",
          "text": [
            "Drive already mounted at /content/drive; to attempt to forcibly remount, call drive.mount(\"/content/drive\", force_remount=True).\n"
          ]
        }
      ]
    },
    {
      "cell_type": "code",
      "metadata": {
        "colab": {
          "base_uri": "https://localhost:8080/"
        },
        "id": "Lq2VATsrRFhT",
        "outputId": "b18ad482-7253-4a1b-a656-0b73e1e1139a"
      },
      "source": [
        "!ls -ltr /content/drive/MyDrive/School/CSCE5290/Final\\ Project/enron_dataframe.pkl"
      ],
      "execution_count": 2,
      "outputs": [
        {
          "output_type": "stream",
          "name": "stdout",
          "text": [
            "-rw------- 1 root root 48510257 Nov 13 02:31 '/content/drive/MyDrive/School/CSCE5290/Final Project/enron_dataframe.pkl'\n"
          ]
        }
      ]
    },
    {
      "cell_type": "code",
      "metadata": {
        "colab": {
          "base_uri": "https://localhost:8080/"
        },
        "id": "LdXZN-eFCjwV",
        "outputId": "d23b262f-d9e0-4dd0-8dad-a2654610926c"
      },
      "source": [
        "# You will have to restart the kernel after installing pandas 1.3.1\n",
        "!pip3 install --upgrade pandas==1.3.1"
      ],
      "execution_count": 3,
      "outputs": [
        {
          "output_type": "stream",
          "name": "stdout",
          "text": [
            "Requirement already satisfied: pandas==1.3.1 in /usr/local/lib/python3.7/dist-packages (1.3.1)\n",
            "Requirement already satisfied: python-dateutil>=2.7.3 in /usr/local/lib/python3.7/dist-packages (from pandas==1.3.1) (2.8.2)\n",
            "Requirement already satisfied: pytz>=2017.3 in /usr/local/lib/python3.7/dist-packages (from pandas==1.3.1) (2018.9)\n",
            "Requirement already satisfied: numpy>=1.17.3 in /usr/local/lib/python3.7/dist-packages (from pandas==1.3.1) (1.19.5)\n",
            "Requirement already satisfied: six>=1.5 in /usr/local/lib/python3.7/dist-packages (from python-dateutil>=2.7.3->pandas==1.3.1) (1.15.0)\n"
          ]
        }
      ]
    },
    {
      "cell_type": "code",
      "metadata": {
        "id": "OoPwADGGmIKq",
        "colab": {
          "base_uri": "https://localhost:8080/"
        },
        "outputId": "886b0248-b327-46d5-f0aa-2b50bc1ca67b"
      },
      "source": [
        "import os\n",
        "import pandas as pd\n",
        "\n",
        "df = pd.read_pickle(\"/content/drive/MyDrive/School/CSCE5290/Final Project/enron_dataframe.pkl\")\n",
        "print(df.head())\n",
        "print(df.shape)"
      ],
      "execution_count": 4,
      "outputs": [
        {
          "output_type": "stream",
          "name": "stdout",
          "text": [
            "                                                Text    Person\n",
            "0                                                     arnold-j\n",
            "1                            let's push until monday  arnold-j\n",
            "2                                        what's pdx?  arnold-j\n",
            "3  BMO wants to do this sleave trade. Duke, Dyneg...  arnold-j\n",
            "4  I'm big seller of interventions. they tend not...  arnold-j\n",
            "(95573, 2)\n"
          ]
        }
      ]
    },
    {
      "cell_type": "code",
      "metadata": {
        "id": "h6ujogTMDHNF"
      },
      "source": [
        "import numpy as np\n",
        "\n",
        "persons = np.unique(df['Person'])"
      ],
      "execution_count": 5,
      "outputs": []
    },
    {
      "cell_type": "code",
      "metadata": {
        "colab": {
          "base_uri": "https://localhost:8080/"
        },
        "id": "DHCiIS5fZCZO",
        "outputId": "6f1d53ef-c610-45a8-ec8d-2f8f6262ba25"
      },
      "source": [
        "persons"
      ],
      "execution_count": 6,
      "outputs": [
        {
          "output_type": "execute_result",
          "data": {
            "text/plain": [
              "array(['allen-p', 'arnold-j', 'arora-h', 'badeer-r', 'bailey-s', 'bass-e',\n",
              "       'baughman-d', 'beck-s', 'benson-r', 'blair-l', 'brawner-s',\n",
              "       'buy-r', 'campbell-l', 'carson-m', 'cash-m', 'causholli-m',\n",
              "       'corman-s', 'crandell-s', 'cuilla-m', 'dasovich-j', 'davis-d',\n",
              "       'dean-c', 'delainey-d', 'derrick-j', 'dickson-s', 'donoho-l',\n",
              "       'donohoe-t', 'dorland-c', 'ermis-f', 'farmer-d', 'fischer-m',\n",
              "       'forney-j', 'fossum-d', 'gang-l', 'gay-r', 'geaccone-t',\n",
              "       'germany-c', 'gilbertsmith-d', 'giron-d', 'griffith-j',\n",
              "       'grigsby-m', 'haedicke-m', 'hayslett-r', 'heard-m',\n",
              "       'hendrickson-s', 'hernandez-j', 'hodge-j', 'holst-k', 'horton-s',\n",
              "       'hyatt-k', 'hyvl-d', 'jones-t', 'kaminski-v', 'kean-s', 'keavey-p',\n",
              "       'keiser-k', 'king-j', 'kitchen-l', 'kuykendall-t', 'lavorato-j',\n",
              "       'lay-k', 'lenhart-m', 'lewis-a', 'lokay-m', 'lokey-t', 'love-p',\n",
              "       'lucci-p', 'maggi-m', 'mann-k', 'martin-t', 'may-l', 'mccarty-d',\n",
              "       'mcconnell-m', 'mckay-b', 'mckay-j', 'mclaughlin-e', 'meyers-a',\n",
              "       'mims-thurston-p', 'motley-m', 'neal-s', 'nemec-g', 'panus-s',\n",
              "       'parks-j', 'pereira-s', 'perlingiere-d', 'phanis-s', 'pimenov-v',\n",
              "       'platter-p', 'presto-k', 'quenet-j', 'quigley-d', 'rapp-b',\n",
              "       'reitmeyer-j', 'richey-c', 'ring-a', 'ring-r', 'rodrique-r',\n",
              "       'rogers-b', 'ruscitti-k', 'sager-e', 'saibi-e', 'salisbury-h',\n",
              "       'sanchez-m', 'sanders-r', 'scholtes-d', 'schoolcraft-d',\n",
              "       'schwieger-j', 'scott-s', 'semperger-c', 'shackleton-s',\n",
              "       'shankman-j', 'shapiro-r', 'shively-h', 'skilling-j', 'slinger-r',\n",
              "       'smith-m', 'solberg-g', 'south-s', 'staab-t', 'stclair-c',\n",
              "       'steffes-j', 'stepenovitch-j', 'storey-g', 'sturm-f', 'swerzbin-m',\n",
              "       'symes-k', 'taylor-m', 'tholt-j', 'thomas-p', 'townsend-j',\n",
              "       'tycholiz-b', 'ward-k', 'watson-k', 'weldon-c', 'whalley-g',\n",
              "       'whalley-l', 'white-s', 'whitt-m', 'williams-j', 'williams-w3',\n",
              "       'wolfe-j', 'ybarbo-p', 'zipper-a', 'zufferli-j'], dtype=object)"
            ]
          },
          "metadata": {},
          "execution_count": 6
        }
      ]
    },
    {
      "cell_type": "markdown",
      "metadata": {
        "id": "Nv3xxdzQr2eY"
      },
      "source": [
        "**Split Train and Test Data:**\n",
        "\n",
        "Reference documentation: https://scikit-learn.org/stable/modules/generated/sklearn.model_selection.train_test_split.html\n"
      ]
    },
    {
      "cell_type": "code",
      "metadata": {
        "id": "zqypI8IuGwEf"
      },
      "source": [
        "# add your code below this comment\n",
        "from sklearn.model_selection import train_test_split\n",
        "\n",
        "X_train, X_test, y_train, y_test = train_test_split(\n",
        "    df['Text'], df['Person'], test_size=0.1, random_state=237)"
      ],
      "execution_count": 7,
      "outputs": []
    },
    {
      "cell_type": "markdown",
      "metadata": {
        "id": "5y1kCjzkmSMJ"
      },
      "source": [
        "### **2. Feature Extraction (Prepare Inputs)**"
      ]
    },
    {
      "cell_type": "code",
      "metadata": {
        "id": "J86mfrR8mSUK"
      },
      "source": [
        "import sys\n",
        "import numpy\n",
        "from sklearn.feature_extraction.text import CountVectorizer\n",
        "\n",
        "numpy.set_printoptions(threshold=sys.maxsize)\n",
        "vectorizer = CountVectorizer()\n",
        "data_train = vectorizer.fit_transform(X_train)\n",
        "#print(vectorizer.get_feature_names())\n",
        "data_test = vectorizer.fit_transform(X_test)\n",
        "#print(vectorizer.get_feature_names())"
      ],
      "execution_count": null,
      "outputs": []
    },
    {
      "cell_type": "markdown",
      "metadata": {
        "id": "thid2p4kmN4I"
      },
      "source": [
        "### **3. Prepare Outputs/Labels**"
      ]
    },
    {
      "cell_type": "code",
      "metadata": {
        "colab": {
          "base_uri": "https://localhost:8080/"
        },
        "id": "T0BXmmAGWBwd",
        "outputId": "830575c1-f9ec-48fa-fe7f-626cfa0df4b7"
      },
      "source": [
        "from sklearn import preprocessing\n",
        "tgt_enc = preprocessing.LabelEncoder()\n",
        "tgt_enc.fit(persons)\n",
        "\n",
        "print(f\"Unique categories: {list(tgt_enc.classes_)}\")"
      ],
      "execution_count": 9,
      "outputs": [
        {
          "output_type": "stream",
          "name": "stdout",
          "text": [
            "Unique categories: ['allen-p', 'arnold-j', 'arora-h', 'badeer-r', 'bailey-s', 'bass-e', 'baughman-d', 'beck-s', 'benson-r', 'blair-l', 'brawner-s', 'buy-r', 'campbell-l', 'carson-m', 'cash-m', 'causholli-m', 'corman-s', 'crandell-s', 'cuilla-m', 'dasovich-j', 'davis-d', 'dean-c', 'delainey-d', 'derrick-j', 'dickson-s', 'donoho-l', 'donohoe-t', 'dorland-c', 'ermis-f', 'farmer-d', 'fischer-m', 'forney-j', 'fossum-d', 'gang-l', 'gay-r', 'geaccone-t', 'germany-c', 'gilbertsmith-d', 'giron-d', 'griffith-j', 'grigsby-m', 'haedicke-m', 'hayslett-r', 'heard-m', 'hendrickson-s', 'hernandez-j', 'hodge-j', 'holst-k', 'horton-s', 'hyatt-k', 'hyvl-d', 'jones-t', 'kaminski-v', 'kean-s', 'keavey-p', 'keiser-k', 'king-j', 'kitchen-l', 'kuykendall-t', 'lavorato-j', 'lay-k', 'lenhart-m', 'lewis-a', 'lokay-m', 'lokey-t', 'love-p', 'lucci-p', 'maggi-m', 'mann-k', 'martin-t', 'may-l', 'mccarty-d', 'mcconnell-m', 'mckay-b', 'mckay-j', 'mclaughlin-e', 'meyers-a', 'mims-thurston-p', 'motley-m', 'neal-s', 'nemec-g', 'panus-s', 'parks-j', 'pereira-s', 'perlingiere-d', 'phanis-s', 'pimenov-v', 'platter-p', 'presto-k', 'quenet-j', 'quigley-d', 'rapp-b', 'reitmeyer-j', 'richey-c', 'ring-a', 'ring-r', 'rodrique-r', 'rogers-b', 'ruscitti-k', 'sager-e', 'saibi-e', 'salisbury-h', 'sanchez-m', 'sanders-r', 'scholtes-d', 'schoolcraft-d', 'schwieger-j', 'scott-s', 'semperger-c', 'shackleton-s', 'shankman-j', 'shapiro-r', 'shively-h', 'skilling-j', 'slinger-r', 'smith-m', 'solberg-g', 'south-s', 'staab-t', 'stclair-c', 'steffes-j', 'stepenovitch-j', 'storey-g', 'sturm-f', 'swerzbin-m', 'symes-k', 'taylor-m', 'tholt-j', 'thomas-p', 'townsend-j', 'tycholiz-b', 'ward-k', 'watson-k', 'weldon-c', 'whalley-g', 'whalley-l', 'white-s', 'whitt-m', 'williams-j', 'williams-w3', 'wolfe-j', 'ybarbo-p', 'zipper-a', 'zufferli-j']\n"
          ]
        }
      ]
    },
    {
      "cell_type": "code",
      "metadata": {
        "colab": {
          "base_uri": "https://localhost:8080/"
        },
        "id": "Josj1oh0Zhfi",
        "outputId": "10b8fba5-b23e-4347-b44d-cc35161067dd"
      },
      "source": [
        "labels_persons = tgt_enc.transform(persons)\n",
        "print(f\"Unique categories: {labels_persons}\")"
      ],
      "execution_count": 23,
      "outputs": [
        {
          "output_type": "stream",
          "name": "stdout",
          "text": [
            "Unique categories: [  0   1   2   3   4   5   6   7   8   9  10  11  12  13  14  15  16  17\n",
            "  18  19  20  21  22  23  24  25  26  27  28  29  30  31  32  33  34  35\n",
            "  36  37  38  39  40  41  42  43  44  45  46  47  48  49  50  51  52  53\n",
            "  54  55  56  57  58  59  60  61  62  63  64  65  66  67  68  69  70  71\n",
            "  72  73  74  75  76  77  78  79  80  81  82  83  84  85  86  87  88  89\n",
            "  90  91  92  93  94  95  96  97  98  99 100 101 102 103 104 105 106 107\n",
            " 108 109 110 111 112 113 114 115 116 117 118 119 120 121 122 123 124 125\n",
            " 126 127 128 129 130 131 132 133 134 135 136 137 138 139 140 141 142 143]\n"
          ]
        }
      ]
    },
    {
      "cell_type": "code",
      "metadata": {
        "id": "uAwRoYR4mSBS"
      },
      "source": [
        "output_train_data = tgt_enc.transform(y_train)\n",
        "output_test_data = tgt_enc.transform(y_test)\n",
        "input_train_data = vectorizer.fit_transform(X_train)\n",
        "input_test_data = vectorizer.transform(X_test)"
      ],
      "execution_count": 11,
      "outputs": []
    },
    {
      "cell_type": "markdown",
      "metadata": {
        "id": "9O4oaCOomScB"
      },
      "source": [
        "### **4. Model Training and Evaluation**\n"
      ]
    },
    {
      "cell_type": "markdown",
      "metadata": {
        "id": "Fzhz6Mw3bTBw"
      },
      "source": [
        "**MultiNomial Naive Bayes**\n",
        "\n",
        "Reference Documentation: https://scikit-learn.org/stable/modules/generated/sklearn.naive_bayes.MultinomialNB.html"
      ]
    },
    {
      "cell_type": "code",
      "metadata": {
        "id": "DuIYh6ibmSo6",
        "colab": {
          "base_uri": "https://localhost:8080/"
        },
        "outputId": "d570ac7e-a223-4521-9a11-b5dd48edc192"
      },
      "source": [
        "#training\n",
        "from sklearn.naive_bayes import MultinomialNB\n",
        "mnb_model = MultinomialNB()\n",
        "mnb_model.fit(input_train_data, output_train_data)"
      ],
      "execution_count": 12,
      "outputs": [
        {
          "output_type": "execute_result",
          "data": {
            "text/plain": [
              "MultinomialNB()"
            ]
          },
          "metadata": {},
          "execution_count": 12
        }
      ]
    },
    {
      "cell_type": "code",
      "metadata": {
        "id": "9Ddh4ZfrYnyK",
        "colab": {
          "base_uri": "https://localhost:8080/"
        },
        "outputId": "b3a3e5be-0e0a-40f2-cca4-ad4f4dbe4dda"
      },
      "source": [
        "#evaluation\n",
        "from sklearn import metrics\n",
        "\n",
        "predictions = mnb_model.predict(input_test_data)\n",
        "accuracy = metrics.accuracy_score(output_test_data, predictions)\n",
        "print(\"Accuracy: \", accuracy)"
      ],
      "execution_count": 24,
      "outputs": [
        {
          "output_type": "stream",
          "name": "stdout",
          "text": [
            "Accuracy:  0.3878426449047918\n"
          ]
        }
      ]
    },
    {
      "cell_type": "markdown",
      "metadata": {
        "id": "rrACA5jzWdhp"
      },
      "source": [
        "**Multi-Layer Perceptron Classifier**:\n",
        "\n",
        "Reference Documentation: https://scikit-learn.org/stable/modules/generated/sklearn.neural_network.MLPClassifier.html#sklearn.neural_network.MLPClassifier"
      ]
    },
    {
      "cell_type": "code",
      "metadata": {
        "colab": {
          "base_uri": "https://localhost:8080/"
        },
        "id": "vG-9ztC1WclS",
        "outputId": "10b4da3e-94e5-416f-d76c-bfff5caffbd1"
      },
      "source": [
        "from sklearn.neural_network import MLPClassifier\n",
        "\n",
        "mlp_model = MLPClassifier(random_state=237, max_iter=5, verbose=True)\n",
        "pfit = mlp_model.fit(input_train_data, output_train_data)"
      ],
      "execution_count": 16,
      "outputs": [
        {
          "output_type": "stream",
          "name": "stdout",
          "text": [
            "Iteration 1, loss = 2.92973078\n",
            "Iteration 2, loss = 1.77103694\n",
            "Iteration 3, loss = 1.44205537\n",
            "Iteration 4, loss = 1.24649223\n",
            "Iteration 5, loss = 1.11819174\n"
          ]
        },
        {
          "output_type": "stream",
          "name": "stderr",
          "text": [
            "/usr/local/lib/python3.7/dist-packages/sklearn/neural_network/_multilayer_perceptron.py:696: ConvergenceWarning: Stochastic Optimizer: Maximum iterations (5) reached and the optimization hasn't converged yet.\n",
            "  ConvergenceWarning,\n"
          ]
        }
      ]
    },
    {
      "cell_type": "code",
      "metadata": {
        "id": "M1gQkJzLJquu"
      },
      "source": [
        "# Saving model since each iteration takes about 5 minutes\n",
        "import pickle\n",
        "\n",
        "pkl_filename = \"/content/drive/MyDrive/School/CSCE5290/Final Project/mlp_enron_model_5e.pkl\"\n",
        "with open(pkl_filename, 'wb') as file:\n",
        "    pickle.dump(pfit, file)"
      ],
      "execution_count": 18,
      "outputs": []
    },
    {
      "cell_type": "code",
      "metadata": {
        "colab": {
          "base_uri": "https://localhost:8080/"
        },
        "id": "FZdIp-7CbTHl",
        "outputId": "b4fbb705-68e4-43a0-9a24-cbcf731b591d"
      },
      "source": [
        "# evaluation\n",
        "from sklearn import metrics\n",
        "\n",
        "mlp_predictions = pfit.predict(input_test_data)\n",
        "mlp_accuracy = metrics.accuracy_score(output_test_data, mlp_predictions)\n",
        "print(\"Accuracy: \", mlp_accuracy)"
      ],
      "execution_count": 19,
      "outputs": [
        {
          "output_type": "stream",
          "name": "stdout",
          "text": [
            "Accuracy:  0.6659342958777987\n"
          ]
        }
      ]
    },
    {
      "cell_type": "code",
      "metadata": {
        "colab": {
          "base_uri": "https://localhost:8080/"
        },
        "id": "fkg_ech6f9OK",
        "outputId": "88ec54cf-671c-4c94-a948-2fd44a8d898f"
      },
      "source": [
        "print(persons[mlp_predictions[15]])"
      ],
      "execution_count": 20,
      "outputs": [
        {
          "output_type": "stream",
          "name": "stdout",
          "text": [
            "germany-c\n"
          ]
        }
      ]
    },
    {
      "cell_type": "code",
      "metadata": {
        "colab": {
          "base_uri": "https://localhost:8080/",
          "height": 35
        },
        "id": "bdQsuMTXhsEm",
        "outputId": "fb21cade-b34d-4e2e-c569-f40a01cf460c"
      },
      "source": [
        "list(X_test)[15]"
      ],
      "execution_count": 21,
      "outputs": [
        {
          "output_type": "execute_result",
          "data": {
            "application/vnd.google.colaboratory.intrinsic+json": {
              "type": "string"
            },
            "text/plain": [
              "'We have a new Transco 6-6 contract. Term 9/6 - 9/30 Contract # 3.6878 MDQ 4,752 Rec Leidy #6161 Del Mainline BG&E #7221 (Non New York) Please enter this on the morning sheet. Thanks'"
            ]
          },
          "metadata": {},
          "execution_count": 21
        }
      ]
    },
    {
      "cell_type": "markdown",
      "metadata": {
        "id": "LOF19ggPkQTP"
      },
      "source": [
        "**This is a good example of a sent email where the sender does not identify him/herself.**\n",
        "\n",
        "To check whether this prediction was correct, you can also try to final this email in the original dataset.\n",
        "\n",
        "```\n",
        "cd maildir\n",
        "grep -r \"We have a new Transco 6-6 contract\" *\n",
        "```\n",
        "You should only see\n",
        "```\n",
        "~/maildir ᐅ grep -r \"We have a new Transco 6-6 contract\" *\n",
        "germany-c/discussion_threads/1640.:We have a new Transco 6-6 contract.\n",
        "germany-c/sent/452.:We have a new Transco 6-6 contract.\n",
        "germany-c/_sent_mail/727.:We have a new Transco 6-6 contract.\n",
        "germany-c/all_documents/795.:We have a new Transco 6-6 contract.\n",
        "```"
      ]
    },
    {
      "cell_type": "markdown",
      "metadata": {
        "id": "4FeOGdxynaQd"
      },
      "source": [
        "# **References**\n",
        "\n",
        "* D. Greene and P. Cunningham. \"Practical Solutions to the Problem of Diagonal Dominance in Kernel Document Clustering\", Proc. ICML 2006.\n",
        "* [Enron dataset](https://www.cs.cmu.edu/~enron/)\n",
        "* [Datasets (scikit-learn)](https://scikit-learn.org/stable/modules/classes.html#module-sklearn.datasets)\n",
        "* [All about Naive Bayes (from a scikit-learn perspective)](https://scikit-learn.org/stable/modules/naive_bayes.html)\n",
        "* [Multinomial Naive Bayes Classifier](https://scikit-learn.org/stable/modules/generated/sklearn.naive_bayes.MultinomialNB.html#sklearn-naive-bayes-multinomialnb)\n",
        "* [Multi-Layer Perceptron Classifier](https://scikit-learn.org/stable/modules/generated/sklearn.neural_network.MLPClassifier.html#sklearn.neural_network.MLPClassifier)\n",
        "* [Evaluation metrics](https://scikit-learn.org/stable/modules/classes.html#sklearn-metrics-metrics)\n",
        "* [Feature extraction module](https://scikit-learn.org/stable/modules/classes.html#module-sklearn.feature_extraction)\n",
        "* [Transforming prediction targets using LabelEncoder](https://scikit-learn.org/stable/modules/generated/sklearn.preprocessing.LabelEncoder.html)\n",
        "\n",
        "\n"
      ]
    }
  ]
}